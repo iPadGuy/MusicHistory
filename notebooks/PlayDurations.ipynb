{
 "cells": [
  {
   "cell_type": "markdown",
   "id": "4124f31c-3933-4fa4-9828-9d64ff1fffbd",
   "metadata": {},
   "source": [
    "# Play Duration\n",
    "**Date:** Monday, March 17, 2025"
   ]
  },
  {
   "cell_type": "markdown",
   "id": "309a6565-9c16-4c76-9047-03de4c499248",
   "metadata": {},
   "source": [
    "## Issues\n",
    "- Some rows in `dt_playhistory` show incorrect values for `play_secs` and `play_time`\n"
   ]
  },
  {
   "cell_type": "markdown",
   "id": "6df51194-d8da-4487-ae09-0dd54a7867a3",
   "metadata": {},
   "source": [
    "## Examples\n",
    "- **To Do:** Show rows for March 14th, 2025"
   ]
  },
  {
   "cell_type": "markdown",
   "id": "5c2f3be5-a90c-48b1-9a9b-0b84375caace",
   "metadata": {},
   "source": [
    "## Code"
   ]
  },
  {
   "cell_type": "markdown",
   "id": "b00b0383-f5ba-4196-9d23-555ca7fbc2d6",
   "metadata": {},
   "source": [
    "### Imports"
   ]
  },
  {
   "cell_type": "code",
   "execution_count": 69,
   "id": "bfd1448f-bc05-43b6-8a92-8c2be8e096c9",
   "metadata": {},
   "outputs": [],
   "source": [
    "import os\n",
    "from datetime import datetime, timedelta\n",
    "\n",
    "import sqlalchemy as sa\n",
    "from sqlalchemy import create_engine, text\n",
    "\n",
    "from environs import Env\n"
   ]
  },
  {
   "cell_type": "markdown",
   "id": "e05c41ad-46bb-4e2f-b02f-994486290d92",
   "metadata": {},
   "source": [
    "### Environment"
   ]
  },
  {
   "cell_type": "code",
   "execution_count": 70,
   "id": "0ccf3338",
   "metadata": {},
   "outputs": [
    {
     "data": {
      "text/plain": [
       "True"
      ]
     },
     "execution_count": 70,
     "metadata": {},
     "output_type": "execute_result"
    }
   ],
   "source": [
    "_basedir = os.path.abspath(os.curdir)\n",
    "envfilename = os.path.join(_basedir, \"notebooks\", \".env\")\n",
    "\n",
    "env = Env(expand_vars=True)\n",
    "env.read_env(envfilename)"
   ]
  },
  {
   "cell_type": "markdown",
   "id": "7454a63b-c3c3-4f3d-96bf-daabe61f506f",
   "metadata": {},
   "source": [
    "### Connect to Database"
   ]
  },
  {
   "cell_type": "code",
   "execution_count": 71,
   "id": "3a405eaa-8225-4a16-8b44-c68809c2a36b",
   "metadata": {},
   "outputs": [],
   "source": [
    "db_url = env(\"SQLALCHEMY_DATABASE_URI\")\n",
    "schema = env(\"DB_SCHEMA\")\n",
    "engine = create_engine(db_url, echo=False)"
   ]
  },
  {
   "cell_type": "markdown",
   "id": "c7c4123c-55cc-408e-bdf4-bece79888217",
   "metadata": {},
   "source": [
    "### Database Helper Functions\n",
    "\n",
    "**set_search_path()** - Sets the PostgreSQL search_path"
   ]
  },
  {
   "cell_type": "code",
   "execution_count": 72,
   "id": "21a2e9ab-a57d-47f0-9f52-b2c2dcacbb14",
   "metadata": {},
   "outputs": [],
   "source": [
    "@sa.event.listens_for(engine, \"connect\", insert=True)\n",
    "def set_search_path(dbapi_connection, connection_record):\n",
    "    \"\"\"\n",
    "    Set schema search path in database\n",
    "    \"\"\"\n",
    "    sql = f\"SET SESSION search_path TO {schema},public;\"\n",
    "    existing_autocommit = dbapi_connection.autocommit\n",
    "    dbapi_connection.autocommit = True\n",
    "    cursor = dbapi_connection.cursor()\n",
    "    cursor.execute(sql)\n",
    "    cursor.close()\n",
    "    dbapi_connection.autocommit = existing_autocommit"
   ]
  },
  {
   "cell_type": "markdown",
   "id": "4016be3a-87c3-43fd-96cd-1a0bd126e320",
   "metadata": {},
   "source": [
    "## Sample Data\n",
    "### Notes\n",
    "- SQLAlchemy doesn't appear to support \"`WHERE .. IN`\" clauses in SELECT statements\n",
    "- Workaround: Multiple `WHERE` clauses with `OR`"
   ]
  },
  {
   "cell_type": "code",
   "execution_count": 73,
   "id": "c9a4467c",
   "metadata": {},
   "outputs": [
    {
     "name": "stdout",
     "output_type": "stream",
     "text": [
      "Query #1\n",
      "343867) 10:45:19 | 1:02:58 | Music/Ultimate_80s/Disc_10/22 Starship - Nothings Gonna Stop Us.mp4\n",
      "343891) 13:09:36 | 3:25:18 | Videos/TV/AllInTheFamily/Season_02/S02E20 Edith Gets a Mink.mp4\n",
      "343934) 18:42:06 | 0:49:08 | Videos/Torrents/TV/LALaw/Season_06/S06E16 From Here to Paternity.mp4\n"
     ]
    }
   ],
   "source": [
    "# Query #1 Find rows with large values in play_secs column\n",
    "print(\"Query #1\")\n",
    "\n",
    "tbl = env(\"DB_DATA_TABLE\", default=\"dt_playhistory\")\n",
    "columns = \"id playdatetime play_secs play_time filename\".split()\n",
    "cols = \",\".join(columns)\n",
    "whr = \" AND \".join([\n",
    "\t\"playdate = :playdate\",\n",
    "\t\"play_secs > :play_secs\"\n",
    "])\n",
    "params = {\n",
    "\t\"playdate\": \"2025-03-14\", \n",
    "\t\"play_secs\": 1800,\n",
    "}\n",
    "sql = \"\\n\".join([\n",
    "\tf\"SELECT {cols}\",\n",
    "\tf\"FROM {tbl}\",\n",
    "\tf\"WHERE {whr};\",\n",
    "])\n",
    "\n",
    "rowids = []\n",
    "with engine.connect() as conn:\n",
    "\tfor rowid, dt, secs, dur, fname in conn.execute(text(sql), params).fetchall():\n",
    "\t\tduration = timedelta(seconds=round(dur.total_seconds(), 0))\n",
    "\t\tstub = fname.lstrip(\"/home/patrick/\")\n",
    "\t\tprint(f\"{rowid}) {dt.replace(microsecond=0).time()} | {duration} | {stub}\")\n",
    "\t\trowids.extend([rowid - 1, rowid, rowid + 1])\n"
   ]
  },
  {
   "cell_type": "code",
   "execution_count": 75,
   "id": "08074c46",
   "metadata": {},
   "outputs": [
    {
     "name": "stdout",
     "output_type": "stream",
     "text": [
      "Query #2\n",
      "343935) 04:05:36 | 0:02:52 | Music/Ultimate_80s/Disc_09/14 Men Without Hats - Safety Dance.mp4\n",
      "343866) 10:41:06 | 0:04:13 | Music/Ultimate_80s/Disc_10/21 Poison - Mama's Fallen Angel.mp4\n",
      "343867) 10:45:19 | 1:02:58 | Music/Ultimate_80s/Disc_10/22 Starship - Nothings Gonna Stop Us.mp4\n",
      "343868) 11:48:17 | 0:04:59 | Music/Ultimate_80s/Disc_10/23 The Church - Under The Milky Way.mp4\n",
      "343890) 13:08:03 | 0:01:33 | Videos/ydl/New_York_Post/20250312/Ontario_Premier_Doug_Ford_apologizes_to_Americans_amid_tariff_war_-_I_love_the_American_people-VP_6Njjb0HU-720.mkv\n",
      "343891) 13:09:36 | 3:25:18 | Videos/TV/AllInTheFamily/Season_02/S02E20 Edith Gets a Mink.mp4\n",
      "343892) 16:34:54 | 0:00:05 | Music/Ultimate_80s/Disc_09/01 Cyndi Lauper - True Colors.mp4\n",
      "343933) 18:39:55 | 0:02:11 | Videos/ydl/CityNews/20250314/CityNews_bids_farewell_to_studios_at_Yonge_and_Dundas-yJQlmwZ-Dz8-720.mkv\n",
      "343934) 18:42:06 | 0:49:08 | Videos/Torrents/TV/LALaw/Season_06/S06E16 From Here to Paternity.mp4\n"
     ]
    }
   ],
   "source": [
    "# Query #2 - Find row before & after rows found in Query #1\n",
    "print(\"Query #2\")\n",
    "params = {}\n",
    "for i, rowid in enumerate(rowids):\n",
    "\tkey = f\"row{i+1}\"\n",
    "\tparams[key] = rowid\n",
    "\n",
    "whr = \" OR \".join([\n",
    "\tf\"id = :{x}\" for x in params\n",
    "])\n",
    "\n",
    "sql = \"\\n\".join([\n",
    "\tf\"SELECT {cols}\",\n",
    "\tf\"FROM {tbl}\",\n",
    "\tf\"WHERE {whr};\",\n",
    "])\n",
    "\n",
    "with engine.connect() as conn:\n",
    "\tfor rowid, dt, secs, dur, fname in conn.execute(text(sql), params).fetchall():\n",
    "\t\tduration = timedelta(seconds=round(dur.total_seconds(), 0))\n",
    "\t\tstub = fname.lstrip(\"/home/patrick/\")\n",
    "\t\tprint(f\"{rowid}) {dt.replace(microsecond=0).time()} | {duration} | {stub}\")\n"
   ]
  }
 ],
 "metadata": {
  "kernelspec": {
   "display_name": "Python 3 (ipykernel)",
   "language": "python",
   "name": "python3"
  },
  "language_info": {
   "codemirror_mode": {
    "name": "ipython",
    "version": 3
   },
   "file_extension": ".py",
   "mimetype": "text/x-python",
   "name": "python",
   "nbconvert_exporter": "python",
   "pygments_lexer": "ipython3",
   "version": "3.12.9"
  }
 },
 "nbformat": 4,
 "nbformat_minor": 5
}
